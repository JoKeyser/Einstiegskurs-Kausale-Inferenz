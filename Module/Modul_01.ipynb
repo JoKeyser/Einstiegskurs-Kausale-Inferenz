{
 "cells": [
  {
   "cell_type": "raw",
   "id": "071a010c",
   "metadata": {},
   "source": [
    "---\n",
    "title: \"Modul 01: An der Weggabelung: Einen Weg gehen &ndash; und einen nicht\"\n",
    "output: \n",
    "  learnr::tutorial:\n",
    "    language: \n",
    "      de: js/tutorial_de.json\n",
    "    progressive: true\n",
    "    css: \"css/style.css\"\n",
    "runtime: shiny_prerendered\n",
    "---"
   ]
  },
  {
   "cell_type": "markdown",
   "id": "964bcee0",
   "metadata": {},
   "source": [
    "<a href=\"https://ki-campus.org/\">\n",
    "<img border=\"0\" alt=\"KICampusLogo\" src=\"images/KIcampusLogo.png\" width=\"100\" height=\"30\" style=\"float: right\">\n",
    "</a>"
   ]
  },
  {
   "cell_type": "code",
   "execution_count": 12,
   "id": "74d17979",
   "metadata": {
    "name": "setup",
    "tags": [
     "remove_cell"
    ]
   },
   "outputs": [],
   "source": [
    "library(learnr)\n",
    "library(mosaic)\n",
    "library(tidyr)\n",
    "library(knitr)\n",
    "library(ggthemes)\n",
    "\n",
    "theme.fom <- theme_classic(22*1.04)\n",
    "theme.fom <- theme.fom\n",
    "theme_set(\n",
    "  theme.fom  \n",
    ")\n",
    "\n",
    "# deutsche Version von random_praise\n",
    "source(\"random-praise_de/translation_random-praise_de.R\")\n",
    "\n",
    "\n",
    "# Daten simulieren\n",
    "set.seed(1896)\n",
    "n <- 10\n",
    "\n",
    "Schulung <- tibble(finteresse = rnorm(n)) %>%\n",
    "  rowwise() %>%\n",
    "  mutate(pteilnahme = pnorm((finteresse+rnorm(1)))) %>%\n",
    "  mutate(teilnahme = sample(c(\"Ja\", \"Nein\"), \n",
    "                            size = 1, prob = c(pteilnahme, 1-pteilnahme))) %>%\n",
    "  mutate(gehalt0 = 2000 * (1 + pnorm((finteresse + rnorm(1)))/10)) %>%\n",
    "  mutate(gehalt1 = gehalt0 * (0.95 + rbeta(1,1,10))) %>%\n",
    "  mutate(across(where(is.numeric), ~ round(.x, -2))) %>%\n",
    "  mutate(effekt = gehalt1 - gehalt0) %>%\n",
    "  mutate(gehalt = case_when(teilnahme == \"Ja\" ~ gehalt1,\n",
    "                            teilnahme == \"Nein\" ~ gehalt0)) %>%\n",
    "  ungroup() %>%\n",
    "  mutate(i=row_number()) %>%\n",
    "  select(i, teilnahme, gehalt0, gehalt1, effekt, gehalt)"
   ]
  },
  {
   "cell_type": "markdown",
   "id": "9f49b447",
   "metadata": {},
   "source": [
    "## Lernziele\n",
    "\n",
    "In diesem Modul lernen Sie:\n",
    "\n",
    "- was ein **potenzielles Ergebnis (Potential Outcome)** ist;\n",
    "\n",
    "- was ein **Counterfactual** ist;\n",
    "\n",
    "- wie **kausale Effekte** definiert werden können;\n",
    "\n",
    "- warum die Bestimmung von kausalen Effekten so herausfordernd ist.\n",
    "\n",
    "## Individueller kausaler Effekt\n",
    "\n",
    "Stellen Sie sich folgende Situation vor: Am Ende Ihrer Ausbildungszeit wird Ihnen die Teilnahme an einer freiwilligen Schulung zum Thema Gehaltsverhandlungen angeboten.\n",
    "\n",
    "Würden Sie teilnehmen?\n",
    "\n",
    "Für Ihre Entscheidung ist vermutlich relevant, ob Sie davon ausgehen, dass die Teilnahme Ihr zukünftiges Gehalt tatsächlich verbessern wird.\n",
    "\n",
    "Wie würden Sie für sich diesen **individuellen kausalen Effekt** der Teilnahme an der Schulung auf Ihr Gehalt definieren, d. h., was *bringt* Ihnen die Schulung finanziell?\n",
    "\n",
    "*Denken Sie bitte kurz darüber nach und klicken Sie erst dann auf `Weiter`*\n",
    "\n",
    "##\n",
    "\n",
    "Eine mögliche Idee wäre es, einfach die Differenz des Gehaltes vor und nach der Schulung zu bilden: *Gehalt nach der Schulung minus Gehalt vor der Schulung*.\n",
    "Hier ergibt sich aber ein Problem, denn es ist natürlich gut möglich, dass unabhängig von der Schulung Ihr Gehalt mit der Zeit angestiegen wäre. \n",
    "\n",
    "(Eine ganz ähnliche Situation ergibt sich, wenn man zum Beispiel rausfinden möchte, ob ein bestimmtes Medikament gegen eine Krankheit hilft: Einige Erkrankungen werden von alleine mit der Zeit besser und es wäre ein Fehler, diese Verbesserung spezifischen Maßnahmen zuzuschreiben. Daher spielen Kontrollgruppen in klinischen Studien eine so zentrale Rolle.)"
   ]
  },
  {
   "cell_type": "markdown",
   "id": "8fd8251a",
   "metadata": {},
   "source": [
    "Eine andere Möglichkeit ist es, diesen Effekt als \n",
    "\n",
    "$$\\text{Gehalt mit Schulung} - \\text{Gehalt ohne Schulung} $$\n",
    "\n",
    "zu definieren.\n",
    "\n",
    "Wenn Sie vor der Entscheidung stehen: *Nehme ich an der Schulung teil?* gibt es für Ihr Gehalt zwei **potenzielle Ergebnisse (englisch: Potential Outcomes)**:\n",
    "\n",
    "- <blue> Gehalt </blue> ohne <green> Schulung </green>: $\\color{blue}{Y}^{\\color{green}{X=0}}$\n",
    "\n",
    "- <blue> Gehalt </blue> mit <green> Schulung </green>: $\\color{blue}{Y}^{\\color{green}{X=1}}$\n",
    "\n",
    "$\\color{blue}{Y}$ ist die *Wirkung*, das Ergebnis, also hier das <blue> Gehalt </blue>. Das hochgestellte $\\color{green}{X}$ soll symbolisieren für welche Wert der *Ursache* das Ergebnis betrachtet wird. Ohne <green> Schulung </green> nimmt $\\color{green}{X}$ den Wert 0 an, mit <green> Schulung </green> den Wert 1. \n",
    "\n",
    "![](images/Weggabel.png){width=\"65%\"}\n",
    "\n",
    "##\n",
    "\n",
    "Der **individuelle kausale Effekt** $\\color{orange}{\\Delta}_i$ (griechisch: Delta) der Schulung ergibt sich dann als die Differenz zwischen diesen beiden potenziellen Ergebnissen:\n",
    "\n",
    "$$\\color{orange}{\\Delta}_i = \\color{blue}{Y}^{\\color{green}{X=1}}_i - \\color{blue}{Y}^{\\color{green}{X=0}}_i$$\n",
    "\n",
    "Wobei\n",
    "\n",
    "- $i$ für die einzelne Beobachtung, hier die einzelne Person, steht;\n",
    "\n",
    "- $\\color{blue}{Y}_i$ für das <blue> Gehalt </blue> von $i$;\n",
    "\n",
    "- $\\color{green}{X}$ für die Teilnahme an der <green> Schulung</green>; dabei ist $\\color{green}{X_i=1}$ wenn $i$ teilnimmt und  $\\color{green}{X_i=0}$ wenn $i$ nicht teilnimmt."
   ]
  },
  {
   "cell_type": "markdown",
   "id": "7a55e59e",
   "metadata": {},
   "source": [
    "## Ein fiktives Beispiel\n",
    "\n",
    "Schauen wir uns einmal eine fiktive Gehaltstabelle mit potenziellen Ergebnissen an:\n",
    "\n",
    "- `i`: Nummer der Person;\n",
    "\n",
    "- `gehalt1`: $\\color{blue}{Y}^{\\color{green}{X=1}}$, Gehalt mit Schulung;\n",
    "\n",
    "- `gehalt0`: $\\color{blue}{Y}^{\\color{green}{X=0}}$, Gehalt ohne Schulung."
   ]
  },
  {
   "cell_type": "code",
   "execution_count": null,
   "id": "70dd5339",
   "metadata": {
    "lines_to_next_cell": 2,
    "name": "gehaltstabelle",
    "tags": [
     "remove_input"
    ]
   },
   "outputs": [],
   "source": [
    "Schulung %>%\n",
    "  select(i, gehalt1, gehalt0) %>%\n",
    "  kable()"
   ]
  },
  {
   "cell_type": "markdown",
   "id": "7a61b2a6",
   "metadata": {},
   "source": [
    "Der individuelle kausale Effekt $\\color{orange}{\\Delta}_i$ lässt sich dann innerhalb der Datentabelle `Schulung` berechnen als `gehalt1 - gehalt0` (hier in `R`):\n",
    "\n",
    "***\n",
    "\n",
    "*Anmerkung:* `R` ist eine freie Software für die Datenanalyse. Sie kann von der Seite [https://cran.r-project.org/](https://cran.r-project.org/) für gängige Betriebssysteme heruntergeladen werden. Ergänzend ist die Nutzung des `RStudio Desktop` empfehlenswert ([https://www.rstudio.com/products/rstudio/download/](https://www.rstudio.com/products/rstudio/download/)). Im Rahmen dieser Module wird außerdem u.a. das Paket `mosaic` ([https://cran.r-project.org/package=mosaic)](https://cran.r-project.org/package=mosaic)) verwendet.\n",
    "\n",
    "***\n"
   ]
  },
  {
   "cell_type": "code",
   "execution_count": 6,
   "id": "06117e3e",
   "metadata": {},
   "outputs": [],
   "source": [
    "# Paket laden\n",
    "library(mosaic)\n",
    "# Datentabelle Schulung um neue Variable \"effekt\" ergänzen\n",
    "Schulung <- Schulung %>%\n",
    "  mutate(effekt = gehalt1 - gehalt0)"
   ]
  },
  {
   "cell_type": "markdown",
   "id": "f17fcf0f",
   "metadata": {},
   "source": [
    "Und damit:"
   ]
  },
  {
   "cell_type": "code",
   "execution_count": 7,
   "id": "138c73e8",
   "metadata": {
    "name": "gehaltstabelleeffekt",
    "tags": [
     "remove_input"
    ]
   },
   "outputs": [
    {
     "data": {
      "text/plain": [
       "\n",
       "\n",
       "|  i| gehalt1| gehalt0| effekt|\n",
       "|--:|-------:|-------:|------:|\n",
       "|  1|    2300|    2200|    100|\n",
       "|  2|    2200|    2000|    200|\n",
       "|  3|    2100|    2000|    100|\n",
       "|  4|    2500|    2100|    400|\n",
       "|  5|    2500|    2100|    400|\n",
       "|  6|    2100|    2100|      0|\n",
       "|  7|    2200|    2100|    100|\n",
       "|  8|    2000|    2100|   -100|\n",
       "|  9|    2000|    2000|      0|\n",
       "| 10|    2100|    2100|      0|"
      ]
     },
     "metadata": {},
     "output_type": "display_data"
    }
   ],
   "source": [
    "Schulung %>%\n",
    "  select(i, gehalt1, gehalt0, effekt) %>%\n",
    "  kable()"
   ]
  },
  {
   "cell_type": "code",
   "execution_count": 8,
   "id": "28e50ff1",
   "metadata": {
    "lines_to_next_cell": 2,
    "name": "visualisierung",
    "tags": [
     "remove_input"
    ]
   },
   "outputs": [
    {
     "data": {
      "image/png": "[encoded data removed]",
      "text/plain": [
       "plot without title"
      ]
     },
     "metadata": {
      "image/png": {
       "height": 420,
       "width": 420
      }
     },
     "output_type": "display_data"
    }
   ],
   "source": [
    "Schulung_Long <- Schulung %>%\n",
    "  select(i, gehalt0, gehalt1) %>%\n",
    "  pivot_longer(c(gehalt0, gehalt1), values_to = \"Gehalt\", names_to = \"Schulung\") %>%\n",
    "  mutate(Schulung = ifelse(Schulung == \"gehalt0\", \"0: Nein\", \"1: Ja\"))\n",
    "\n",
    "gf_point(Gehalt ~ Schulung, data = Schulung_Long,\n",
    "         position = \"jitter\", width = 0.01, height = 0,\n",
    "         color = ~ Schulung,\n",
    "         show.legend = FALSE) %>%\n",
    "  gf_line(Gehalt ~ Schulung, group = ~ i,\n",
    "          color = \"blue\", alpha = 0.25) +\n",
    "  scale_color_colorblind()"
   ]
  },
  {
   "cell_type": "code",
   "execution_count": 9,
   "id": "3953f868",
   "metadata": {
    "name": "ike",
    "tags": [
     "remove_input"
    ]
   },
   "outputs": [
    {
     "data": {
      "text/plain": [
       "Question: \"Können Sie diese individuellen kausalen Effekte in der Realität beobachten?\"\n",
       "  type: \"learnr_radio\"\n",
       "  allow_retry: TRUE\n",
       "  random_answer_order: FALSE\n",
       "  answers:\n",
       "    X: \"Ja\"\n",
       "    ✔: \"Nein\"; \"Für jede Beobachtung \\(i\\) liegt nur ein Gehaltswert vor: der mit Schulung oder der ohne Schulung, aber niemals beide gleichzeitig, da Personen entweder teilnehmen oder nicht. \\(\\Delta_i\\) kann daher nicht beobachtet werden.\"\n",
       "  messages:\n",
       "    correct: \"Stimmt!\"\n",
       "    incorrect: \"Probieren Sie nochmal. Sie schaffen das!\"\n",
       "    try_again: \"Probieren Sie nochmal. Sie schaffen das!\" "
      ]
     },
     "metadata": {},
     "output_type": "display_data"
    }
   ],
   "source": [
    "question(\"Können Sie diese individuellen kausalen Effekte in der Realität beobachten?\",\n",
    "         answer(\"Ja\"),\n",
    "         answer(\"Nein\", correct = TRUE, message = \"Für jede Beobachtung $i$ liegt nur ein Gehaltswert vor: der mit Schulung oder der ohne Schulung, aber niemals beide gleichzeitig, da Personen entweder teilnehmen oder nicht. $\\\\Delta_i$ kann daher nicht beobachtet werden.\"),\n",
    "         allow_retry = TRUE,\n",
    "         correct = random_praise(),\n",
    "         incorrect = random_encouragement()\n",
    "         )"
   ]
  },
  {
   "cell_type": "markdown",
   "id": "320d4f3e",
   "metadata": {},
   "source": [
    "Sie sehen: häufig sind die individuellen kausalen Effekte positiv &ndash; sie können aber auch neutral oder sogar negativ sein.\n",
    "\n",
    "## Das fundamentale Problem der kausalen Inferenz\n",
    "\n",
    "Das fundamentale Problem der kausalen Inferenz ist, dass wir den individuellen kausalen Effekt $\\color{orange}{\\Delta}_i = \\color{blue}{Y}^{\\color{green}{X=1}}_i - \\color{blue}{Y}^{\\color{green}{X=0}}_i$ **nicht** beobachten können. Es liegt je Beobachtung $i$ immer nur eines der beiden Potential Outcomes vor: Entweder $\\color{blue}{Y}^{\\color{green}{X=1}}$ (<blue>Gehalt</blue> mit <green>Schulung</green>) **oder** $\\color{blue}{Y}^{\\color{green}{X=0}}$ (<blue>Gehalt</blue> ohne <green>Schulung</green>).\n",
    "\n",
    "- Wenn Person $i$ an der Schulung teilnimmt, liegt uns das Gehalt mit Schulung vor, $\\color{blue}{Y}^{\\color{green}{X=1}}_i$, und nicht $\\color{blue}{Y}^{\\color{green}{X=0}}_i$\n",
    "\n",
    "- Wenn Person $i$ nicht an der Schulung teilnimmt, liegt uns das Gehalt ohne Schulung vor, $\\color{blue}{Y}^{\\color{green}{X=0}}_i$, und nicht $\\color{blue}{Y}^{\\color{green}{X=1}}_i$\n",
    "\n",
    "Der Wert, der nicht beobachtet wird, wird jeweils als **Counterfactual** bezeichnet; er ist kontrafaktisch in dem Sinne, dass er in der Realität nicht vorliegt. \n",
    "\n",
    "Für jemanden, der nicht an der Schulung teilgenommen hat, ist das Counterfactual die Antwort auf die Frage: *Wie hoch wäre mein Gehalt, wenn ich an der Schulung teilgenommen hätte?* Für jemanden der teilgenommen hat, ist das Counterfactual die Antwort auf die Frage: *Wie hoch wäre mein Gehalt, wenn ich nicht an der Schulung teilgenommen hätte?*"
   ]
  },
  {
   "cell_type": "code",
   "execution_count": 10,
   "id": "2f74bdbd",
   "metadata": {
    "name": "cf",
    "tags": [
     "remove_input"
    ]
   },
   "outputs": [
    {
     "data": {
      "text/plain": [
       "Question: \"Kann das Counterfactual beobachtet werden?\"\n",
       "  type: \"learnr_radio\"\n",
       "  allow_retry: TRUE\n",
       "  random_answer_order: FALSE\n",
       "  answers:\n",
       "    X: \"Ja\"; \"Je Beobachtung \\(i\\) liegt nur ein Wert vor: der mit Schulung oder der ohne Schulung, nicht beide gleichzeitig. Das Counterfactual ist das nicht beobachtete der Potential Outcomes.\"\n",
       "    ✔: \"Nein\"; \"Das Counterfactual ist das nicht Beobachtete der Potential Outcomes.\"\n",
       "  messages:\n",
       "    correct: \"Sehr schön\"\n",
       "    incorrect: \"Versuchen Sie es noch einmal. Ausdauer ist der Schlüssel zum Erfolg!\"\n",
       "    try_again: \"Versuchen Sie es noch einmal. Ausdauer ist der Schlüssel zum Erfolg!\" "
      ]
     },
     "metadata": {},
     "output_type": "display_data"
    }
   ],
   "source": [
    "question(\"Kann das Counterfactual beobachtet werden?\",\n",
    "         answer(\"Ja\", message = \"Je Beobachtung $i$ liegt nur ein Wert vor: der mit Schulung oder der ohne Schulung, nicht beide gleichzeitig. Das Counterfactual ist das nicht beobachtete der Potential Outcomes.\"),\n",
    "         answer(\"Nein\", correct = TRUE, message = \"Das Counterfactual ist das nicht Beobachtete der Potential Outcomes.\"),\n",
    "         allow_retry = TRUE,\n",
    "         correct = random_praise(),\n",
    "         incorrect = random_encouragement()\n",
    "         )"
   ]
  },
  {
   "cell_type": "code",
   "execution_count": null,
   "id": "7e2f77d9",
   "metadata": {
    "lines_to_next_cell": 2,
    "name": "cfi",
    "tags": [
     "remove_input"
    ]
   },
   "outputs": [],
   "source": [
    "question(\"Person $i$ nimmt an der Schulung teil. Was ist dann das Counterfactual?\",\n",
    "         answer(\"$\\\\color{blue}{Y}^{\\\\color{green}{X=0}}_i$\", correct = TRUE, message = \"Teilnahme an der Schulung bedeutet $X=1$, d. h. für das Counterfactual $X=0$.\"),\n",
    "         answer(\"$\\\\color{blue}{Y}^{\\\\color{green}{X=1}}_i$\"),\n",
    "         allow_retry = TRUE,\n",
    "         correct = random_praise(),\n",
    "         incorrect = random_encouragement()\n",
    "         )"
   ]
  },
  {
   "cell_type": "markdown",
   "id": "f6a611b3",
   "metadata": {},
   "source": [
    "## Durchschnittlicher kausaler Effekt\n",
    "\n",
    "Mal angenommen, wir würden die individuellen kausalen Effekte $\\color{orange}{\\Delta}_i$ aber doch kennen (Variable `effekt` in unserem `R`-Beispiel).\n",
    "Dann könnten wir aus ihnen weitere Größen ableiten, beispielsweise den *durchschnittlichen* kausalen Effekt $\\bar{\\color{orange}{\\Delta}}$, indem wir alle $i$ individuellen kausalen Effekte addieren und diese Summe ($\\sum$) durch die Anzahl der Beobachtungen ($n$) dividieren: \n",
    "\n",
    "$$\\bar{\\color{orange}{\\Delta}}=\\frac{\\sum_{i=1}^n \\color{orange}{\\Delta}_i}{n}=\\frac{\\sum_{i=1}^n(\\color{blue}{Y}^{\\color{green}{X=1}}_i - \\color{blue}{Y}^{\\color{green}{X=0}}_i)}{n} =\\frac{\\sum_{i=1}^n\\color{blue}{Y}^{\\color{green}{X=1}}_i - \\sum_{i=1}^n\\color{blue}{Y}^{\\color{green}{X=0}}_i}{n}=\\overline{\\color{blue}{Y}}^{\\color{green}{X=1}}-\\overline{\\color{blue}{Y}}^{\\color{green}{X=0}}.$$\n",
    "\n",
    "Die `R`-Funktion, die diesen arithmetischen Mittelwert berechnet, lautet `mean()`.\n",
    "\n",
    "Klicken Sie auf `Ausführen`, um den durchschnittlichen kausalen Effekt in unserem fiktiven Beispiel zu berechnen, in dem beide Potential Outcomes vorliegen."
   ]
  },
  {
   "cell_type": "code",
   "execution_count": null,
   "id": "a079d2f6",
   "metadata": {
    "exercise": true,
    "lines_to_next_cell": 2,
    "name": "ate"
   },
   "outputs": [],
   "source": [
    "mean( ~ effekt, data = Schulung)"
   ]
  },
  {
   "cell_type": "markdown",
   "id": "ef482be4",
   "metadata": {},
   "source": [
    "***\n",
    "\n",
    "*Anmerkung:* In `mosaic` ist die `R` Syntax vereinheitlicht:"
   ]
  },
  {
   "cell_type": "code",
   "execution_count": null,
   "id": "a2ab5e6c",
   "metadata": {
    "eval": false,
    "name": "mosaic1"
   },
   "outputs": [],
   "source": [
    "analyse(y ~ x, data = Daten)"
   ]
  },
  {
   "cell_type": "markdown",
   "id": "5dd7abbf",
   "metadata": {},
   "source": [
    "Analysiere die Variable `y` in Abhängigkeit der Variable `x` aus der Datentabelle `Daten`. Welche Funktion `analyse()` zur Anwendung kommt, hängt vom Ziel unser Analyse ab. \n",
    "\n",
    "Sollte es, wie im vorliegenden Fall, nur eine Variable geben, die zusammengefasst werden soll, kann auch kurz geschrieben werden:"
   ]
  },
  {
   "cell_type": "code",
   "execution_count": null,
   "id": "61c8d129",
   "metadata": {
    "eval": false,
    "name": "mosaic2"
   },
   "outputs": [],
   "source": [
    "analyse( ~ y, data = Daten)"
   ]
  },
  {
   "cell_type": "markdown",
   "id": "40ab62d5",
   "metadata": {},
   "source": [
    "***\n",
    "\n",
    "Beachten Sie: Der durchschnittliche kausale Effekt ist positiv, auf Individualebene kann er aber auch negativ sein. $\\bar{\\color{orange}{\\Delta}}$ ist eine aggregierte Datenzusammenfassung.\n",
    "\n",
    "##\n",
    "\n",
    "Das fundamentale Problem der kausalen Inferenz ist, dass nur eines der Potential Outcomes vorliegt und das nicht vorliegende ein Counterfactual ist. Daher kennen wir in der Praxis weder den individuellen noch den durchschnittlichen kausalen Effekt. Letzterer liegt in unserem Beispiel bei"
   ]
  },
  {
   "cell_type": "markdown",
   "id": "25eaf69d",
   "metadata": {},
   "source": [
    "$$\\bar{\\color{orange}{\\Delta}}=\\frac{\\sum_{i=1}^n \\color{orange}{\\Delta}_i}{n}=`r mean(~ effekt, data = Schulung)`.$$\n",
    "\n",
    "## Fehlende Werte\n",
    "\n",
    "In der Praxis kennen wir zwar nicht beide Potential Outcomes, aber wir wissen innerhalb einer Beobachtungsgruppe, wer an der Schulung teilgenommen hat und wer nicht. Daraus ergibt sich, welches der beiden Potential Outcomes beobachtet ist und welches uns fehlt (das Counterfactual). \n",
    "\n",
    "In der Praxis sähe unsere fiktive Gehaltstabelle also anders aus -- fehlende Werte werden in `R` als `NA` (engl.: not available, nicht verfügbar) dargestellt."
   ]
  },
  {
   "cell_type": "code",
   "execution_count": null,
   "id": "822e5b41",
   "metadata": {
    "name": "teilnahme",
    "tags": [
     "remove_input"
    ]
   },
   "outputs": [],
   "source": [
    "Schulung %>%\n",
    "  select(i, teilnahme, gehalt0, gehalt1) %>%\n",
    "  mutate(gehalt0 = ifelse(teilnahme==\"Ja\", NA, gehalt0)) %>%\n",
    "  mutate(gehalt1 = ifelse(teilnahme==\"Nein\", NA, gehalt1)) %>%\n",
    "  kable()"
   ]
  },
  {
   "cell_type": "markdown",
   "id": "4f590cc8",
   "metadata": {},
   "source": [
    "In der Regel strukturiert man die Daten so, dass nur eine Gehaltsvariable -- das beobachtete `gehalt` -- sowie eine Variable zur `teilnahme` existiert."
   ]
  },
  {
   "cell_type": "code",
   "execution_count": null,
   "id": "d598bcc4",
   "metadata": {
    "name": "gehalt",
    "tags": [
     "remove_input"
    ]
   },
   "outputs": [],
   "source": [
    "Schulung %>%\n",
    "  select(i, teilnahme, gehalt) %>%\n",
    "  kable()"
   ]
  },
  {
   "cell_type": "code",
   "execution_count": null,
   "id": "96fd77fb",
   "metadata": {
    "name": "bias",
    "tags": [
     "remove_input"
    ]
   },
   "outputs": [],
   "source": [
    "question(\"Die Teilnahme an der Schulung war freiwillig. Können Sie davon ausgehen, dass, unabhängig von der Schulung, Teilnehmende und Nichtteilehmende ein ähnliches erstes Gehalt haben würden?\",\n",
    "         answer(\"Ja\"),\n",
    "         answer(\"Nein\", correct = TRUE, message = \"Teilnehmende und Nichtteilnehmende könnten sich in vielerlei Hinsicht unterscheiden. Um nur ein Beispiel zu nennen: Personen, denen ihr Gehalt besonders wichtig ist, werden eher an der Schulung teilnehmen. Diese Personen werden aber vielleicht auch ohne Schulung anders in Gehaltsverhandlungen auftreten.\"),\n",
    "         allow_retry = TRUE,\n",
    "         correct = random_praise(),\n",
    "         incorrect = random_encouragement()\n",
    "         )"
   ]
  },
  {
   "cell_type": "markdown",
   "id": "3a48c943",
   "metadata": {},
   "source": [
    "## Schätzung des kausalen Effektes\n",
    "\n",
    "Anhand der tatsächlich beobachteten Daten können wir zwei Durchschnittsgehälter berechnen: Das Durchschnittsgehalt derjenigen, die teilgenommen haben, und das Durchschnittsgehalt derjenigen, die nicht teilgenommen haben."
   ]
  },
  {
   "cell_type": "code",
   "execution_count": null,
   "id": "a852abb3",
   "metadata": {
    "name": "gehaltteilnahme"
   },
   "outputs": [],
   "source": [
    "mean(gehalt ~ teilnahme, data = Schulung)"
   ]
  },
  {
   "cell_type": "markdown",
   "id": "082f7b58",
   "metadata": {},
   "source": [
    "- $\\bar{\\color{blue}{y}}^{\\color{green}{x=1}} = `r round(mean(gehalt ~ teilnahme, data = Schulung)[1],2)`$\n",
    "\n",
    "- $\\bar{\\color{blue}{y}}^{\\color{green}{x=0}} = `r round(mean(gehalt ~ teilnahme, data = Schulung)[2],2)`$\n",
    "\n",
    "***\n",
    "\n",
    "*Anmerkung*: "
   ]
  },
  {
   "cell_type": "code",
   "execution_count": null,
   "id": "40e22c4f",
   "metadata": {
    "eval": false,
    "name": "pseudo"
   },
   "outputs": [],
   "source": [
    "mean(gehalt ~ teilnahme, data = Schulung)"
   ]
  },
  {
   "cell_type": "markdown",
   "id": "1b7b9f02",
   "metadata": {},
   "source": [
    "Bedeutet aus `R mosaic` *übersetzt*:\n",
    "\n",
    "Berechne den arithmetischen Mittelwert (Funktion `mean()`) der Variable `gehalt` ($y$) in Abhängigkeit der Variable `teilnahme` ($x$). Die dazugehörigen Daten sind in der Datentabelle `Schulung`.\n",
    "\n",
    "***\n",
    "\n",
    "Nun könnte man versuchen, den durchschnittlichen kausalen Effekt mithilfe dieser beobachteten Werte zu schätzen:\n",
    "\n",
    "$$\\bar{\\color{blue}{y}}^{\\color{green}{x=1}} - \\bar{\\color{blue}{y}}^{\\color{green}{x=0}} = `r round(mean(gehalt ~ teilnahme, data = Schulung)[1],2)` - `r round(mean(gehalt ~ teilnahme, data = Schulung)[2],2)` = `r round(-diffmean(gehalt ~ teilnahme, data = Schulung),2)`$$\n",
    "\n",
    "Dieser Wert weicht aber substanziell vom wahren durchschnittlichen kausalen Effekt ab, den wir zuvor mithilfe der Potential Outcomes berechnet hatten: $\\bar{\\color{orange}{\\Delta}} =`r round(mean(~ effekt, data = Schulung),2)`$.\n",
    "Bei dieser Abweichung handelt es sich um eine systematische Verzerrung, die auch als **Bias** bezeichnet wird."
   ]
  },
  {
   "cell_type": "markdown",
   "id": "a064b861",
   "metadata": {},
   "source": [
    "Der naive Vergleich der Mittelwerte überschätzt hier den wahren durchschnittlichen Effekt. In unserem fiktiven Beispiel liegt das daran, dass Personen mit einem höherem Gehaltsinteresse eher an der Schulung teilgenommen haben als die mit einem niedrigeren Interesse. \n",
    "\n",
    "Erstere hätten aber so oder so, also unabhängig von der Schulung, ein höheres Gehalt erhalten. Hier sind unterschiedliche inhaltliche Erklärungen denkbar (z.B. ein höheres Interesse am Gehalt und damit auch ein anderes Auftreten in Gehaltsverhandlungen).\n",
    "\n",
    "Kontrollieren Sie diese Aussage, indem Sie den Code so abändern, dass Sie die Mittelwerte der, auch unbeobachteten, Potential Outcomes berechnen. Diese befinden sich in der gleichen Datentabelle und tragen die Namen `gehalt0` und `gehalt1`:\n",
    "\n",
    "*Tipp*: Einen Lösungshinweis erhalten Sie über den `Hinweise`-Button über dem R Code. Anschließend `Nächster Tipp` und Sie sehen die Lösung."
   ]
  },
  {
   "cell_type": "code",
   "execution_count": 11,
   "id": "5055353e",
   "metadata": {
    "exercise": true,
    "name": "po"
   },
   "outputs": [
    {
     "data": {
      "text/html": [
       "<style>\n",
       ".dl-inline {width: auto; margin:0; padding: 0}\n",
       ".dl-inline>dt, .dl-inline>dd {float: none; width: auto; display: inline-block}\n",
       ".dl-inline>dt::after {content: \":\\0020\"; padding-right: .5ex}\n",
       ".dl-inline>dt:not(:first-of-type) {padding-left: .5ex}\n",
       "</style><dl class=dl-inline><dt>Ja</dt><dd>2233.33333333333</dd><dt>Nein</dt><dd>2075</dd></dl>\n"
      ],
      "text/latex": [
       "\\begin{description*}\n",
       "\\item[Ja] 2233.33333333333\n",
       "\\item[Nein] 2075\n",
       "\\end{description*}\n"
      ],
      "text/markdown": [
       "Ja\n",
       ":   2233.33333333333Nein\n",
       ":   2075\n",
       "\n"
      ],
      "text/plain": [
       "      Ja     Nein \n",
       "2233.333 2075.000 "
      ]
     },
     "metadata": {},
     "output_type": "display_data"
    }
   ],
   "source": [
    "mean(gehalt ~ teilnahme, data = Schulung)"
   ]
  },
  {
   "cell_type": "code",
   "execution_count": null,
   "id": "18d03655",
   "metadata": {
    "name": "po-solution"
   },
   "outputs": [],
   "source": [
    "cat(\"Potential Outcomes: Durchschnittliches Gehalt ohne Teilnahme:\\n\")\n",
    "cat(\"Für die, die teilnehmen ('Ja') das Counterfactual.\\n\")\n",
    "mean(gehalt0 ~ teilnahme, data = Schulung)\n",
    "cat(\"Potential Outcomes: Durchschnittliches Gehalt mit Teilnahme:\\n\")\n",
    "cat(\"Für die, die nicht teilnehmen ('Nein') das Counterfactual.\\n\")\n",
    "mean(gehalt1 ~ teilnahme, data = Schulung)"
   ]
  },
  {
   "cell_type": "code",
   "execution_count": null,
   "id": "e53426cb",
   "metadata": {
    "lines_to_next_cell": 2,
    "name": "po-hint"
   },
   "outputs": [],
   "source": [
    "\"gehalt0 bzw. gehalt1 sind die Variablennamen. Ändern Sie die Variable gehalt entsprechend.\""
   ]
  },
  {
   "cell_type": "markdown",
   "id": "833f4eb1",
   "metadata": {},
   "source": [
    "##\n",
    "\n",
    "Das fundamentale Problem der kausalen Inferenz ist universell. In vielen Situationen kann es dazu führen, dass die Daten uns in die Irre führen: Vielleicht vermuten wir einen kausalen Effekt, wo es nicht wirklich einen gibt, oder wir erkennen real existierende Effekte nicht. \n",
    "\n",
    "Die Gefahr solcher Fehlschlüsse verringert sich aber, wenn wir uns darüber Gedanken machen, wie unsere Daten überhaupt entstanden sind. In unserem fiktiven Beispiel kann man die zusätzliche Information heranziehen, dass Personen sich frei auswählen konnten, ob sie teilnehmen oder nicht. Dann erkennt man schnell, dass der naive Mittelwertvergleich kein angemessener Weg ist, den durchschnittlichen kausalen Effekt zu schätzen. \n",
    "\n",
    "In den folgenden Modulen werden Sie verschiedene datengenerierende Mechanismen kennenlernen und erfahren, wie diese kausale Schlüsse beeinflussen.\n",
    "\n",
    "## Hinweis\n",
    "\n",
    "<red> **Dieser Kurs ist aktuell noch in der Entwicklung!** </red>\n",
    "\n",
    "Bitte melden Sie Fehler, Unklarheiten und Verbesserungsvorschläge [hier](https://github.com/luebby/WWWEKI/issues).\n",
    "\n",
    "Das Vorhaben *Was, wie, warum? Einstiegskurs Kausale Inferenz (WWWEKI)* wird mit Mitteln des Bundesministeriums für Bildung und Forschung unter dem Förderkennzeichen 16DHBQP040 gefördert."
   ]
  },
  {
   "cell_type": "markdown",
   "id": "df67a1b8",
   "metadata": {},
   "source": [
    "![](images/csm_Logo-BMBF.jpg)\n",
    "\n"
   ]
  }
 ],
 "metadata": {
  "jupytext": {
   "cell_metadata_filter": "tags,eval,exercise,name,-all",
   "formats": "Rmd,ipynb",
   "notebook_metadata_filter": "-all"
  },
  "kernelspec": {
   "display_name": "R",
   "language": "R",
   "name": "ir"
  },
  "language_info": {
   "codemirror_mode": "r",
   "file_extension": ".r",
   "mimetype": "text/x-r-source",
   "name": "R",
   "pygments_lexer": "r",
   "version": "4.3.1"
  }
 },
 "nbformat": 4,
 "nbformat_minor": 5
}
